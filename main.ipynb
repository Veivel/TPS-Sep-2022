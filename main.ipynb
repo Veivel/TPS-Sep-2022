{
 "cells": [
  {
   "cell_type": "markdown",
   "metadata": {},
   "source": [
    "# TPS September 2022"
   ]
  },
  {
   "cell_type": "code",
   "execution_count": 171,
   "metadata": {},
   "outputs": [
    {
     "name": "stderr",
     "output_type": "stream",
     "text": [
      "/var/folders/d_/7kf0v4591t1_j404ld5qvmg40000gn/T/ipykernel_20283/3788763230.py:12: UserWarning: ignore\n",
      "  warnings.warn('ignore')\n"
     ]
    }
   ],
   "source": [
    "import pandas as pd\n",
    "import numpy as np\n",
    "import matplotlib as mp\n",
    "import matplotlib.pyplot as plt\n",
    "import seaborn as sns\n",
    "import missingno as msno\n",
    "# from sklearn import preprocessing, metrics, model_selection\n",
    "\n",
    "import warnings\n",
    "\n",
    "plt.style.use('dark_background')\n",
    "warnings.warn('ignore')"
   ]
  },
  {
   "cell_type": "code",
   "execution_count": 172,
   "metadata": {},
   "outputs": [
    {
     "data": {
      "text/html": [
       "<div>\n",
       "<style scoped>\n",
       "    .dataframe tbody tr th:only-of-type {\n",
       "        vertical-align: middle;\n",
       "    }\n",
       "\n",
       "    .dataframe tbody tr th {\n",
       "        vertical-align: top;\n",
       "    }\n",
       "\n",
       "    .dataframe thead th {\n",
       "        text-align: right;\n",
       "    }\n",
       "</style>\n",
       "<table border=\"1\" class=\"dataframe\">\n",
       "  <thead>\n",
       "    <tr style=\"text-align: right;\">\n",
       "      <th></th>\n",
       "      <th>row_id</th>\n",
       "      <th>date</th>\n",
       "      <th>country</th>\n",
       "      <th>store</th>\n",
       "      <th>product</th>\n",
       "      <th>num_sold</th>\n",
       "    </tr>\n",
       "  </thead>\n",
       "  <tbody>\n",
       "    <tr>\n",
       "      <th>0</th>\n",
       "      <td>0</td>\n",
       "      <td>2017-01-01</td>\n",
       "      <td>Belgium</td>\n",
       "      <td>KaggleMart</td>\n",
       "      <td>Kaggle Advanced Techniques</td>\n",
       "      <td>663</td>\n",
       "    </tr>\n",
       "    <tr>\n",
       "      <th>1</th>\n",
       "      <td>1</td>\n",
       "      <td>2017-01-01</td>\n",
       "      <td>Belgium</td>\n",
       "      <td>KaggleMart</td>\n",
       "      <td>Kaggle Getting Started</td>\n",
       "      <td>615</td>\n",
       "    </tr>\n",
       "    <tr>\n",
       "      <th>2</th>\n",
       "      <td>2</td>\n",
       "      <td>2017-01-01</td>\n",
       "      <td>Belgium</td>\n",
       "      <td>KaggleMart</td>\n",
       "      <td>Kaggle Recipe Book</td>\n",
       "      <td>480</td>\n",
       "    </tr>\n",
       "    <tr>\n",
       "      <th>3</th>\n",
       "      <td>3</td>\n",
       "      <td>2017-01-01</td>\n",
       "      <td>Belgium</td>\n",
       "      <td>KaggleMart</td>\n",
       "      <td>Kaggle for Kids: One Smart Goose</td>\n",
       "      <td>710</td>\n",
       "    </tr>\n",
       "    <tr>\n",
       "      <th>4</th>\n",
       "      <td>4</td>\n",
       "      <td>2017-01-01</td>\n",
       "      <td>Belgium</td>\n",
       "      <td>KaggleRama</td>\n",
       "      <td>Kaggle Advanced Techniques</td>\n",
       "      <td>240</td>\n",
       "    </tr>\n",
       "  </tbody>\n",
       "</table>\n",
       "</div>"
      ],
      "text/plain": [
       "   row_id        date  country       store                           product  \\\n",
       "0       0  2017-01-01  Belgium  KaggleMart        Kaggle Advanced Techniques   \n",
       "1       1  2017-01-01  Belgium  KaggleMart            Kaggle Getting Started   \n",
       "2       2  2017-01-01  Belgium  KaggleMart                Kaggle Recipe Book   \n",
       "3       3  2017-01-01  Belgium  KaggleMart  Kaggle for Kids: One Smart Goose   \n",
       "4       4  2017-01-01  Belgium  KaggleRama        Kaggle Advanced Techniques   \n",
       "\n",
       "   num_sold  \n",
       "0       663  \n",
       "1       615  \n",
       "2       480  \n",
       "3       710  \n",
       "4       240  "
      ]
     },
     "execution_count": 172,
     "metadata": {},
     "output_type": "execute_result"
    }
   ],
   "source": [
    "train = pd.read_csv('data/train.csv')\n",
    "test = pd.read_csv('data/test.csv')\n",
    "\n",
    "train.head()"
   ]
  },
  {
   "cell_type": "code",
   "execution_count": 173,
   "metadata": {},
   "outputs": [
    {
     "data": {
      "text/html": [
       "<div>\n",
       "<style scoped>\n",
       "    .dataframe tbody tr th:only-of-type {\n",
       "        vertical-align: middle;\n",
       "    }\n",
       "\n",
       "    .dataframe tbody tr th {\n",
       "        vertical-align: top;\n",
       "    }\n",
       "\n",
       "    .dataframe thead th {\n",
       "        text-align: right;\n",
       "    }\n",
       "</style>\n",
       "<table border=\"1\" class=\"dataframe\">\n",
       "  <thead>\n",
       "    <tr style=\"text-align: right;\">\n",
       "      <th></th>\n",
       "      <th>row_id</th>\n",
       "      <th>date</th>\n",
       "      <th>country</th>\n",
       "      <th>store</th>\n",
       "      <th>product</th>\n",
       "      <th>num_sold</th>\n",
       "    </tr>\n",
       "  </thead>\n",
       "  <tbody>\n",
       "    <tr>\n",
       "      <th>count</th>\n",
       "      <td>70128.000000</td>\n",
       "      <td>70128</td>\n",
       "      <td>70128</td>\n",
       "      <td>70128</td>\n",
       "      <td>70128</td>\n",
       "      <td>70128.000000</td>\n",
       "    </tr>\n",
       "    <tr>\n",
       "      <th>unique</th>\n",
       "      <td>NaN</td>\n",
       "      <td>1461</td>\n",
       "      <td>6</td>\n",
       "      <td>2</td>\n",
       "      <td>4</td>\n",
       "      <td>NaN</td>\n",
       "    </tr>\n",
       "    <tr>\n",
       "      <th>top</th>\n",
       "      <td>NaN</td>\n",
       "      <td>2017-01-01</td>\n",
       "      <td>Belgium</td>\n",
       "      <td>KaggleMart</td>\n",
       "      <td>Kaggle Advanced Techniques</td>\n",
       "      <td>NaN</td>\n",
       "    </tr>\n",
       "    <tr>\n",
       "      <th>freq</th>\n",
       "      <td>NaN</td>\n",
       "      <td>48</td>\n",
       "      <td>11688</td>\n",
       "      <td>35064</td>\n",
       "      <td>17532</td>\n",
       "      <td>NaN</td>\n",
       "    </tr>\n",
       "    <tr>\n",
       "      <th>mean</th>\n",
       "      <td>35063.500000</td>\n",
       "      <td>NaN</td>\n",
       "      <td>NaN</td>\n",
       "      <td>NaN</td>\n",
       "      <td>NaN</td>\n",
       "      <td>194.296986</td>\n",
       "    </tr>\n",
       "    <tr>\n",
       "      <th>std</th>\n",
       "      <td>20244.354176</td>\n",
       "      <td>NaN</td>\n",
       "      <td>NaN</td>\n",
       "      <td>NaN</td>\n",
       "      <td>NaN</td>\n",
       "      <td>126.893874</td>\n",
       "    </tr>\n",
       "    <tr>\n",
       "      <th>min</th>\n",
       "      <td>0.000000</td>\n",
       "      <td>NaN</td>\n",
       "      <td>NaN</td>\n",
       "      <td>NaN</td>\n",
       "      <td>NaN</td>\n",
       "      <td>19.000000</td>\n",
       "    </tr>\n",
       "    <tr>\n",
       "      <th>25%</th>\n",
       "      <td>17531.750000</td>\n",
       "      <td>NaN</td>\n",
       "      <td>NaN</td>\n",
       "      <td>NaN</td>\n",
       "      <td>NaN</td>\n",
       "      <td>95.000000</td>\n",
       "    </tr>\n",
       "    <tr>\n",
       "      <th>50%</th>\n",
       "      <td>35063.500000</td>\n",
       "      <td>NaN</td>\n",
       "      <td>NaN</td>\n",
       "      <td>NaN</td>\n",
       "      <td>NaN</td>\n",
       "      <td>148.000000</td>\n",
       "    </tr>\n",
       "    <tr>\n",
       "      <th>75%</th>\n",
       "      <td>52595.250000</td>\n",
       "      <td>NaN</td>\n",
       "      <td>NaN</td>\n",
       "      <td>NaN</td>\n",
       "      <td>NaN</td>\n",
       "      <td>283.000000</td>\n",
       "    </tr>\n",
       "    <tr>\n",
       "      <th>max</th>\n",
       "      <td>70127.000000</td>\n",
       "      <td>NaN</td>\n",
       "      <td>NaN</td>\n",
       "      <td>NaN</td>\n",
       "      <td>NaN</td>\n",
       "      <td>986.000000</td>\n",
       "    </tr>\n",
       "  </tbody>\n",
       "</table>\n",
       "</div>"
      ],
      "text/plain": [
       "              row_id        date  country       store  \\\n",
       "count   70128.000000       70128    70128       70128   \n",
       "unique           NaN        1461        6           2   \n",
       "top              NaN  2017-01-01  Belgium  KaggleMart   \n",
       "freq             NaN          48    11688       35064   \n",
       "mean    35063.500000         NaN      NaN         NaN   \n",
       "std     20244.354176         NaN      NaN         NaN   \n",
       "min         0.000000         NaN      NaN         NaN   \n",
       "25%     17531.750000         NaN      NaN         NaN   \n",
       "50%     35063.500000         NaN      NaN         NaN   \n",
       "75%     52595.250000         NaN      NaN         NaN   \n",
       "max     70127.000000         NaN      NaN         NaN   \n",
       "\n",
       "                           product      num_sold  \n",
       "count                        70128  70128.000000  \n",
       "unique                           4           NaN  \n",
       "top     Kaggle Advanced Techniques           NaN  \n",
       "freq                         17532           NaN  \n",
       "mean                           NaN    194.296986  \n",
       "std                            NaN    126.893874  \n",
       "min                            NaN     19.000000  \n",
       "25%                            NaN     95.000000  \n",
       "50%                            NaN    148.000000  \n",
       "75%                            NaN    283.000000  \n",
       "max                            NaN    986.000000  "
      ]
     },
     "execution_count": 173,
     "metadata": {},
     "output_type": "execute_result"
    }
   ],
   "source": [
    "train.describe(include='all')"
   ]
  },
  {
   "cell_type": "code",
   "execution_count": 174,
   "metadata": {},
   "outputs": [
    {
     "name": "stdout",
     "output_type": "stream",
     "text": [
      "product : ['Kaggle Advanced Techniques' 'Kaggle Getting Started'\n",
      " 'Kaggle Recipe Book' 'Kaggle for Kids: One Smart Goose']\n",
      "country : ['Belgium' 'France' 'Germany' 'Italy' 'Poland' 'Spain']\n",
      "store : ['KaggleMart' 'KaggleRama']\n"
     ]
    }
   ],
   "source": [
    "for col in ['product','country','store']:\n",
    "    print(col, \":\", train[col].unique())"
   ]
  },
  {
   "cell_type": "code",
   "execution_count": 175,
   "metadata": {},
   "outputs": [
    {
     "data": {
      "text/plain": [
       "<AxesSubplot:>"
      ]
     },
     "execution_count": 175,
     "metadata": {},
     "output_type": "execute_result"
    },
    {
     "data": {
      "image/png": "[encoded data removed]",
      "text/plain": [
       "<Figure size 360x360 with 2 Axes>"
      ]
     },
     "metadata": {},
     "output_type": "display_data"
    }
   ],
   "source": [
    "msno.matrix(train, figsize=(5,5))"
   ]
  },
  {
   "cell_type": "code",
   "execution_count": 176,
   "metadata": {},
   "outputs": [
    {
     "data": {
      "text/html": [
       "<div>\n",
       "<style scoped>\n",
       "    .dataframe tbody tr th:only-of-type {\n",
       "        vertical-align: middle;\n",
       "    }\n",
       "\n",
       "    .dataframe tbody tr th {\n",
       "        vertical-align: top;\n",
       "    }\n",
       "\n",
       "    .dataframe thead th {\n",
       "        text-align: right;\n",
       "    }\n",
       "</style>\n",
       "<table border=\"1\" class=\"dataframe\">\n",
       "  <thead>\n",
       "    <tr style=\"text-align: right;\">\n",
       "      <th></th>\n",
       "      <th>row_id</th>\n",
       "      <th>date</th>\n",
       "      <th>country</th>\n",
       "      <th>store</th>\n",
       "      <th>product</th>\n",
       "    </tr>\n",
       "  </thead>\n",
       "  <tbody>\n",
       "    <tr>\n",
       "      <th>count</th>\n",
       "      <td>17520.000000</td>\n",
       "      <td>17520</td>\n",
       "      <td>17520</td>\n",
       "      <td>17520</td>\n",
       "      <td>17520</td>\n",
       "    </tr>\n",
       "    <tr>\n",
       "      <th>unique</th>\n",
       "      <td>NaN</td>\n",
       "      <td>365</td>\n",
       "      <td>6</td>\n",
       "      <td>2</td>\n",
       "      <td>4</td>\n",
       "    </tr>\n",
       "    <tr>\n",
       "      <th>top</th>\n",
       "      <td>NaN</td>\n",
       "      <td>2021-01-01</td>\n",
       "      <td>Belgium</td>\n",
       "      <td>KaggleMart</td>\n",
       "      <td>Kaggle Advanced Techniques</td>\n",
       "    </tr>\n",
       "    <tr>\n",
       "      <th>freq</th>\n",
       "      <td>NaN</td>\n",
       "      <td>48</td>\n",
       "      <td>2920</td>\n",
       "      <td>8760</td>\n",
       "      <td>4380</td>\n",
       "    </tr>\n",
       "    <tr>\n",
       "      <th>mean</th>\n",
       "      <td>78887.500000</td>\n",
       "      <td>NaN</td>\n",
       "      <td>NaN</td>\n",
       "      <td>NaN</td>\n",
       "      <td>NaN</td>\n",
       "    </tr>\n",
       "    <tr>\n",
       "      <th>std</th>\n",
       "      <td>5057.732694</td>\n",
       "      <td>NaN</td>\n",
       "      <td>NaN</td>\n",
       "      <td>NaN</td>\n",
       "      <td>NaN</td>\n",
       "    </tr>\n",
       "    <tr>\n",
       "      <th>min</th>\n",
       "      <td>70128.000000</td>\n",
       "      <td>NaN</td>\n",
       "      <td>NaN</td>\n",
       "      <td>NaN</td>\n",
       "      <td>NaN</td>\n",
       "    </tr>\n",
       "    <tr>\n",
       "      <th>25%</th>\n",
       "      <td>74507.750000</td>\n",
       "      <td>NaN</td>\n",
       "      <td>NaN</td>\n",
       "      <td>NaN</td>\n",
       "      <td>NaN</td>\n",
       "    </tr>\n",
       "    <tr>\n",
       "      <th>50%</th>\n",
       "      <td>78887.500000</td>\n",
       "      <td>NaN</td>\n",
       "      <td>NaN</td>\n",
       "      <td>NaN</td>\n",
       "      <td>NaN</td>\n",
       "    </tr>\n",
       "    <tr>\n",
       "      <th>75%</th>\n",
       "      <td>83267.250000</td>\n",
       "      <td>NaN</td>\n",
       "      <td>NaN</td>\n",
       "      <td>NaN</td>\n",
       "      <td>NaN</td>\n",
       "    </tr>\n",
       "    <tr>\n",
       "      <th>max</th>\n",
       "      <td>87647.000000</td>\n",
       "      <td>NaN</td>\n",
       "      <td>NaN</td>\n",
       "      <td>NaN</td>\n",
       "      <td>NaN</td>\n",
       "    </tr>\n",
       "  </tbody>\n",
       "</table>\n",
       "</div>"
      ],
      "text/plain": [
       "              row_id        date  country       store  \\\n",
       "count   17520.000000       17520    17520       17520   \n",
       "unique           NaN         365        6           2   \n",
       "top              NaN  2021-01-01  Belgium  KaggleMart   \n",
       "freq             NaN          48     2920        8760   \n",
       "mean    78887.500000         NaN      NaN         NaN   \n",
       "std      5057.732694         NaN      NaN         NaN   \n",
       "min     70128.000000         NaN      NaN         NaN   \n",
       "25%     74507.750000         NaN      NaN         NaN   \n",
       "50%     78887.500000         NaN      NaN         NaN   \n",
       "75%     83267.250000         NaN      NaN         NaN   \n",
       "max     87647.000000         NaN      NaN         NaN   \n",
       "\n",
       "                           product  \n",
       "count                        17520  \n",
       "unique                           4  \n",
       "top     Kaggle Advanced Techniques  \n",
       "freq                          4380  \n",
       "mean                           NaN  \n",
       "std                            NaN  \n",
       "min                            NaN  \n",
       "25%                            NaN  \n",
       "50%                            NaN  \n",
       "75%                            NaN  \n",
       "max                            NaN  "
      ]
     },
     "execution_count": 176,
     "metadata": {},
     "output_type": "execute_result"
    }
   ],
   "source": [
    "test.describe(include='all')"
   ]
  },
  {
   "cell_type": "code",
   "execution_count": 177,
   "metadata": {},
   "outputs": [
    {
     "name": "stdout",
     "output_type": "stream",
     "text": [
      "product : ['Kaggle Advanced Techniques' 'Kaggle Getting Started'\n",
      " 'Kaggle Recipe Book' 'Kaggle for Kids: One Smart Goose']\n",
      "country : ['Belgium' 'France' 'Germany' 'Italy' 'Poland' 'Spain']\n",
      "store : ['KaggleMart' 'KaggleRama']\n"
     ]
    }
   ],
   "source": [
    "for col in ['product','country','store']:\n",
    "    print(col, \":\", test[col].unique())"
   ]
  },
  {
   "cell_type": "code",
   "execution_count": 178,
   "metadata": {},
   "outputs": [
    {
     "data": {
      "text/plain": [
       "<AxesSubplot:>"
      ]
     },
     "execution_count": 178,
     "metadata": {},
     "output_type": "execute_result"
    },
    {
     "data": {
      "image/png": "[encoded data removed]",
      "text/plain": [
       "<Figure size 360x360 with 2 Axes>"
      ]
     },
     "metadata": {},
     "output_type": "display_data"
    }
   ],
   "source": [
    "msno.matrix(test, figsize=(5,5))"
   ]
  },
  {
   "cell_type": "code",
   "execution_count": 179,
   "metadata": {},
   "outputs": [],
   "source": [
    "# *SOME EDA WAS DONE IN TABLEAU*"
   ]
  },
  {
   "cell_type": "code",
   "execution_count": 180,
   "metadata": {},
   "outputs": [
    {
     "name": "stderr",
     "output_type": "stream",
     "text": [
      "/var/folders/d_/7kf0v4591t1_j404ld5qvmg40000gn/T/ipykernel_20283/2208651624.py:31: FutureWarning: Series.dt.weekofyear and Series.dt.week have been deprecated. Please use Series.dt.isocalendar().week instead.\n",
      "  train[\"period\"] = train['date'].dt.week\n"
     ]
    },
    {
     "data": {
      "image/png": "[encoded data removed]",
      "text/plain": [
       "<Figure size 432x288 with 1 Axes>"
      ]
     },
     "metadata": {},
     "output_type": "display_data"
    }
   ],
   "source": [
    "def seasonal_plot(X, y, period, freq, ax=None):\n",
    "    if ax is None:\n",
    "        _, ax = plt.subplots()\n",
    "    palette = sns.color_palette(\"husl\", n_colors=X[period].nunique(),)\n",
    "    ax = sns.lineplot(\n",
    "        x=freq,\n",
    "        y=y,\n",
    "        hue=period,\n",
    "        data=X,\n",
    "        ci=False,\n",
    "        ax=ax,\n",
    "        palette=palette,\n",
    "        legend=False,\n",
    "    )\n",
    "    ax.set_title(f\"Seasonal Plot ({period}/{freq})\")\n",
    "    for line, name in zip(ax.lines, X[period].unique()):\n",
    "        y_ = line.get_ydata()[-1]\n",
    "        ax.annotate(\n",
    "            name,\n",
    "            xy=(1, y_),\n",
    "            xytext=(6, 0),\n",
    "            color=line.get_color(),\n",
    "            xycoords=ax.get_yaxis_transform(),\n",
    "            textcoords=\"offset points\",\n",
    "            size=14,\n",
    "            va=\"center\",\n",
    "        )\n",
    "    return ax\n",
    "\n",
    "train['date'] = pd.to_datetime(train['date'])\n",
    "train[\"period\"] = train['date'].dt.week\n",
    "train[\"freq\"] = train['date'].dt.dayofweek\n",
    "seasonal_plot(train, y='num_sold', period=\"period\", freq=\"freq\")\n",
    "plt.show()"
   ]
  },
  {
   "cell_type": "code",
   "execution_count": 181,
   "metadata": {},
   "outputs": [
    {
     "name": "stderr",
     "output_type": "stream",
     "text": [
      "/var/folders/d_/7kf0v4591t1_j404ld5qvmg40000gn/T/ipykernel_20283/3141867774.py:2: FutureWarning: Series.dt.weekofyear and Series.dt.week have been deprecated. Please use Series.dt.isocalendar().week instead.\n",
      "  train['freq'] = train['date'].dt.weekofyear\n"
     ]
    },
    {
     "data": {
      "image/png": "[encoded data removed]",
      "text/plain": [
       "<Figure size 432x288 with 1 Axes>"
      ]
     },
     "metadata": {},
     "output_type": "display_data"
    }
   ],
   "source": [
    "train['period'] = train['date'].dt.year\n",
    "train['freq'] = train['date'].dt.weekofyear\n",
    "seasonal_plot(train, y='num_sold', period='period', freq='freq')\n",
    "\n",
    "train.drop(columns=['period','freq'], inplace=True)"
   ]
  },
  {
   "cell_type": "code",
   "execution_count": 182,
   "metadata": {},
   "outputs": [
    {
     "data": {
      "text/plain": [
       "<AxesSubplot:title={'center':'Rolling Average of Sales'}, xlabel='date'>"
      ]
     },
     "execution_count": 182,
     "metadata": {},
     "output_type": "execute_result"
    },
    {
     "data": {
      "image/png": "[encoded data removed]",
      "text/plain": [
       "<Figure size 432x288 with 1 Axes>"
      ]
     },
     "metadata": {},
     "output_type": "display_data"
    }
   ],
   "source": [
    "roll_sold = train.loc[:,['date','num_sold']]\n",
    "roll_sold.set_index('date',inplace=True)\n",
    "roll_sold.rolling(window=366, min_periods=0).median().plot(title='Rolling Average of Sales')"
   ]
  },
  {
   "cell_type": "markdown",
   "metadata": {},
   "source": [
    "## Feature Engineering"
   ]
  },
  {
   "cell_type": "markdown",
   "metadata": {},
   "source": [
    "Ideas:\n",
    "- week number or day of year (yearly seasonality)\n",
    "- day of week (weekly seasonality)\n",
    "- public holidays (if data supports) (how detailed?)\n",
    "- make that seasonality chart\n",
    "- courier features\n",
    "- ..."
   ]
  },
  {
   "cell_type": "code",
   "execution_count": 183,
   "metadata": {},
   "outputs": [],
   "source": [
    "from sklearn import preprocessing\n",
    "\n",
    "def preprocess(df):\n",
    "    df_copy = df.__deepcopy__()\n",
    "    \n",
    "    # One-Hot Encode the categorical columns\n",
    "    categorical_cols = ['product','country','store']\n",
    "    \n",
    "    enc = preprocessing.OneHotEncoder(handle_unknown='ignore')\n",
    "    for col in categorical_cols:\n",
    "        data = df_copy[[col]]\n",
    "        encoded_df = pd.DataFrame(enc.fit_transform(data).toarray())\n",
    "        encoded_df.columns = enc.get_feature_names_out()\n",
    "        df_copy = df_copy.join(pd.DataFrame(encoded_df))\n",
    "    df_copy.drop(columns=categorical_cols, inplace=True)\n",
    "    \n",
    "    # Add seasonality data\n",
    "    df_copy['year'] = df_copy['date'].dt.year\n",
    "    df_copy['month'] = df_copy['date'].dt.month\n",
    "    df_copy['week_of_year'] = df_copy['date'].dt.weekofyear\n",
    "    df_copy['day_of_week'] = df_copy['date'].dt.day_of_week\n",
    "    df_copy.drop(columns=['date'], inplace=True)\n",
    "    \n",
    "    # Add Calendar Courier features\n",
    "    # ...\n",
    "        \n",
    "    return df_copy"
   ]
  },
  {
   "cell_type": "code",
   "execution_count": 184,
   "metadata": {},
   "outputs": [
    {
     "name": "stderr",
     "output_type": "stream",
     "text": [
      "/var/folders/d_/7kf0v4591t1_j404ld5qvmg40000gn/T/ipykernel_20283/2689047865.py:20: FutureWarning: Series.dt.weekofyear and Series.dt.week have been deprecated. Please use Series.dt.isocalendar().week instead.\n",
      "  df_copy['week_of_year'] = df_copy['date'].dt.weekofyear\n"
     ]
    },
    {
     "data": {
      "text/html": [
       "<div>\n",
       "<style scoped>\n",
       "    .dataframe tbody tr th:only-of-type {\n",
       "        vertical-align: middle;\n",
       "    }\n",
       "\n",
       "    .dataframe tbody tr th {\n",
       "        vertical-align: top;\n",
       "    }\n",
       "\n",
       "    .dataframe thead th {\n",
       "        text-align: right;\n",
       "    }\n",
       "</style>\n",
       "<table border=\"1\" class=\"dataframe\">\n",
       "  <thead>\n",
       "    <tr style=\"text-align: right;\">\n",
       "      <th></th>\n",
       "      <th>row_id</th>\n",
       "      <th>num_sold</th>\n",
       "      <th>product_Kaggle Advanced Techniques</th>\n",
       "      <th>product_Kaggle Getting Started</th>\n",
       "      <th>product_Kaggle Recipe Book</th>\n",
       "      <th>product_Kaggle for Kids: One Smart Goose</th>\n",
       "      <th>country_Belgium</th>\n",
       "      <th>country_France</th>\n",
       "      <th>country_Germany</th>\n",
       "      <th>country_Italy</th>\n",
       "      <th>country_Poland</th>\n",
       "      <th>country_Spain</th>\n",
       "      <th>store_KaggleMart</th>\n",
       "      <th>store_KaggleRama</th>\n",
       "      <th>year</th>\n",
       "      <th>month</th>\n",
       "      <th>week_of_year</th>\n",
       "      <th>day_of_week</th>\n",
       "    </tr>\n",
       "  </thead>\n",
       "  <tbody>\n",
       "    <tr>\n",
       "      <th>0</th>\n",
       "      <td>0</td>\n",
       "      <td>663</td>\n",
       "      <td>1.0</td>\n",
       "      <td>0.0</td>\n",
       "      <td>0.0</td>\n",
       "      <td>0.0</td>\n",
       "      <td>1.0</td>\n",
       "      <td>0.0</td>\n",
       "      <td>0.0</td>\n",
       "      <td>0.0</td>\n",
       "      <td>0.0</td>\n",
       "      <td>0.0</td>\n",
       "      <td>1.0</td>\n",
       "      <td>0.0</td>\n",
       "      <td>2017</td>\n",
       "      <td>1</td>\n",
       "      <td>52</td>\n",
       "      <td>6</td>\n",
       "    </tr>\n",
       "    <tr>\n",
       "      <th>1</th>\n",
       "      <td>1</td>\n",
       "      <td>615</td>\n",
       "      <td>0.0</td>\n",
       "      <td>1.0</td>\n",
       "      <td>0.0</td>\n",
       "      <td>0.0</td>\n",
       "      <td>1.0</td>\n",
       "      <td>0.0</td>\n",
       "      <td>0.0</td>\n",
       "      <td>0.0</td>\n",
       "      <td>0.0</td>\n",
       "      <td>0.0</td>\n",
       "      <td>1.0</td>\n",
       "      <td>0.0</td>\n",
       "      <td>2017</td>\n",
       "      <td>1</td>\n",
       "      <td>52</td>\n",
       "      <td>6</td>\n",
       "    </tr>\n",
       "    <tr>\n",
       "      <th>2</th>\n",
       "      <td>2</td>\n",
       "      <td>480</td>\n",
       "      <td>0.0</td>\n",
       "      <td>0.0</td>\n",
       "      <td>1.0</td>\n",
       "      <td>0.0</td>\n",
       "      <td>1.0</td>\n",
       "      <td>0.0</td>\n",
       "      <td>0.0</td>\n",
       "      <td>0.0</td>\n",
       "      <td>0.0</td>\n",
       "      <td>0.0</td>\n",
       "      <td>1.0</td>\n",
       "      <td>0.0</td>\n",
       "      <td>2017</td>\n",
       "      <td>1</td>\n",
       "      <td>52</td>\n",
       "      <td>6</td>\n",
       "    </tr>\n",
       "    <tr>\n",
       "      <th>3</th>\n",
       "      <td>3</td>\n",
       "      <td>710</td>\n",
       "      <td>0.0</td>\n",
       "      <td>0.0</td>\n",
       "      <td>0.0</td>\n",
       "      <td>1.0</td>\n",
       "      <td>1.0</td>\n",
       "      <td>0.0</td>\n",
       "      <td>0.0</td>\n",
       "      <td>0.0</td>\n",
       "      <td>0.0</td>\n",
       "      <td>0.0</td>\n",
       "      <td>1.0</td>\n",
       "      <td>0.0</td>\n",
       "      <td>2017</td>\n",
       "      <td>1</td>\n",
       "      <td>52</td>\n",
       "      <td>6</td>\n",
       "    </tr>\n",
       "    <tr>\n",
       "      <th>4</th>\n",
       "      <td>4</td>\n",
       "      <td>240</td>\n",
       "      <td>1.0</td>\n",
       "      <td>0.0</td>\n",
       "      <td>0.0</td>\n",
       "      <td>0.0</td>\n",
       "      <td>1.0</td>\n",
       "      <td>0.0</td>\n",
       "      <td>0.0</td>\n",
       "      <td>0.0</td>\n",
       "      <td>0.0</td>\n",
       "      <td>0.0</td>\n",
       "      <td>0.0</td>\n",
       "      <td>1.0</td>\n",
       "      <td>2017</td>\n",
       "      <td>1</td>\n",
       "      <td>52</td>\n",
       "      <td>6</td>\n",
       "    </tr>\n",
       "  </tbody>\n",
       "</table>\n",
       "</div>"
      ],
      "text/plain": [
       "   row_id  num_sold  product_Kaggle Advanced Techniques  \\\n",
       "0       0       663                                 1.0   \n",
       "1       1       615                                 0.0   \n",
       "2       2       480                                 0.0   \n",
       "3       3       710                                 0.0   \n",
       "4       4       240                                 1.0   \n",
       "\n",
       "   product_Kaggle Getting Started  product_Kaggle Recipe Book  \\\n",
       "0                             0.0                         0.0   \n",
       "1                             1.0                         0.0   \n",
       "2                             0.0                         1.0   \n",
       "3                             0.0                         0.0   \n",
       "4                             0.0                         0.0   \n",
       "\n",
       "   product_Kaggle for Kids: One Smart Goose  country_Belgium  country_France  \\\n",
       "0                                       0.0              1.0             0.0   \n",
       "1                                       0.0              1.0             0.0   \n",
       "2                                       0.0              1.0             0.0   \n",
       "3                                       1.0              1.0             0.0   \n",
       "4                                       0.0              1.0             0.0   \n",
       "\n",
       "   country_Germany  country_Italy  country_Poland  country_Spain  \\\n",
       "0              0.0            0.0             0.0            0.0   \n",
       "1              0.0            0.0             0.0            0.0   \n",
       "2              0.0            0.0             0.0            0.0   \n",
       "3              0.0            0.0             0.0            0.0   \n",
       "4              0.0            0.0             0.0            0.0   \n",
       "\n",
       "   store_KaggleMart  store_KaggleRama  year  month  week_of_year  day_of_week  \n",
       "0               1.0               0.0  2017      1            52            6  \n",
       "1               1.0               0.0  2017      1            52            6  \n",
       "2               1.0               0.0  2017      1            52            6  \n",
       "3               1.0               0.0  2017      1            52            6  \n",
       "4               0.0               1.0  2017      1            52            6  "
      ]
     },
     "execution_count": 184,
     "metadata": {},
     "output_type": "execute_result"
    }
   ],
   "source": [
    "train = preprocess(train)\n",
    "train.head()"
   ]
  },
  {
   "cell_type": "code",
   "execution_count": 185,
   "metadata": {},
   "outputs": [
    {
     "name": "stdout",
     "output_type": "stream",
     "text": [
      "<class 'pandas.core.frame.DataFrame'>\n",
      "RangeIndex: 70128 entries, 0 to 70127\n",
      "Data columns (total 18 columns):\n",
      " #   Column                                    Non-Null Count  Dtype  \n",
      "---  ------                                    --------------  -----  \n",
      " 0   row_id                                    70128 non-null  int64  \n",
      " 1   num_sold                                  70128 non-null  int64  \n",
      " 2   product_Kaggle Advanced Techniques        70128 non-null  float64\n",
      " 3   product_Kaggle Getting Started            70128 non-null  float64\n",
      " 4   product_Kaggle Recipe Book                70128 non-null  float64\n",
      " 5   product_Kaggle for Kids: One Smart Goose  70128 non-null  float64\n",
      " 6   country_Belgium                           70128 non-null  float64\n",
      " 7   country_France                            70128 non-null  float64\n",
      " 8   country_Germany                           70128 non-null  float64\n",
      " 9   country_Italy                             70128 non-null  float64\n",
      " 10  country_Poland                            70128 non-null  float64\n",
      " 11  country_Spain                             70128 non-null  float64\n",
      " 12  store_KaggleMart                          70128 non-null  float64\n",
      " 13  store_KaggleRama                          70128 non-null  float64\n",
      " 14  year                                      70128 non-null  int64  \n",
      " 15  month                                     70128 non-null  int64  \n",
      " 16  week_of_year                              70128 non-null  int64  \n",
      " 17  day_of_week                               70128 non-null  int64  \n",
      "dtypes: float64(12), int64(6)\n",
      "memory usage: 9.6 MB\n"
     ]
    }
   ],
   "source": [
    "train.info()"
   ]
  },
  {
   "cell_type": "code",
   "execution_count": 186,
   "metadata": {},
   "outputs": [],
   "source": [
    "y_train = train['num_sold']\n",
    "X_train = train.drop(columns=['num_sold'])"
   ]
  },
  {
   "cell_type": "code",
   "execution_count": 187,
   "metadata": {},
   "outputs": [],
   "source": [
    "from sklearn import linear_model, ensemble\n",
    "import xgboost\n",
    "\n",
    "models_dict = {\n",
    "    'lin': linear_model.LinearRegression(),\n",
    "    'rf': ensemble.RandomForestRegressor(),\n",
    "    'xgb': xgboost.XGBRegressor()\n",
    "}"
   ]
  },
  {
   "cell_type": "code",
   "execution_count": 200,
   "metadata": {},
   "outputs": [],
   "source": [
    "%%capture\n",
    "from sklearn import model_selection, metrics\n",
    "\n",
    "scores_dict = dict()\n",
    "\n",
    "for regr_name in models_dict:\n",
    "    regr = models_dict[regr_name]\n",
    "    y_pred = model_selection.cross_val_predict(\n",
    "        estimator=regr, \n",
    "        X=X_train, \n",
    "        y=y_train, \n",
    "        cv=5)\n",
    "    score = metrics.mean_absolute_percentage_error(y_train, y_pred)\n",
    "    \n",
    "    scores_dict[regr_name] = {\n",
    "        'score': score\n",
    "    }"
   ]
  },
  {
   "cell_type": "code",
   "execution_count": 201,
   "metadata": {},
   "outputs": [
    {
     "name": "stdout",
     "output_type": "stream",
     "text": [
      "lin   : 0.3334 || 0.3333540021162464\n",
      "rf    : 0.1192 || 0.11917899091977169\n",
      "xgb   : 0.1089 || 0.1089122505811304\n",
      "0.1089122505811304\n"
     ]
    }
   ],
   "source": [
    "for regr in scores_dict:\n",
    "    arr = scores_dict[regr]['score']\n",
    "    print(f\"{regr:6}: {np.mean(arr):.4f} || {arr}\")\n",
    "    \n",
    "print(np.mean(score))"
   ]
  },
  {
   "cell_type": "code",
   "execution_count": 210,
   "metadata": {},
   "outputs": [
    {
     "name": "stderr",
     "output_type": "stream",
     "text": [
      "/var/folders/d_/7kf0v4591t1_j404ld5qvmg40000gn/T/ipykernel_20283/2689047865.py:20: FutureWarning: Series.dt.weekofyear and Series.dt.week have been deprecated. Please use Series.dt.isocalendar().week instead.\n",
      "  df_copy['week_of_year'] = df_copy['date'].dt.weekofyear\n"
     ]
    }
   ],
   "source": [
    "test['date'] = pd.to_datetime(test['date'])\n",
    "X_test = preprocess(test)\n",
    "\n",
    "regr = models_dict['xgb']\n",
    "regr.fit(X_train, y_train)\n",
    "y_pred = regr.predict(X_test)"
   ]
  },
  {
   "cell_type": "code",
   "execution_count": 212,
   "metadata": {},
   "outputs": [
    {
     "name": "stdout",
     "output_type": "stream",
     "text": [
      "output exported\n"
     ]
    }
   ],
   "source": [
    "output = pd.DataFrame({'id': X_test.index, 'num_sold': y_pred})\n",
    "output.to_csv('pred.csv', index=False)\n",
    "print(\"output exported\")"
   ]
  }
 ],
 "metadata": {
  "kernelspec": {
   "display_name": "Python 3.9.13 ('ds-env')",
   "language": "python",
   "name": "python3"
  },
  "language_info": {
   "codemirror_mode": {
    "name": "ipython",
    "version": 3
   },
   "file_extension": ".py",
   "mimetype": "text/x-python",
   "name": "python",
   "nbconvert_exporter": "python",
   "pygments_lexer": "ipython3",
   "version": "3.9.13"
  },
  "orig_nbformat": 4,
  "vscode": {
   "interpreter": {
    "hash": "50d0380861f23b593d520040a66e7a725c6f22b71f0b66fe8e911c9f7b422174"
   }
  }
 },
 "nbformat": 4,
 "nbformat_minor": 2
}
