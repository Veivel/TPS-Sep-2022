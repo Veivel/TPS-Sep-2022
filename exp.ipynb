{
 "cells": [
  {
   "cell_type": "code",
   "execution_count": 8,
   "metadata": {},
   "outputs": [
    {
     "data": {
      "text/html": [
       "<div>\n",
       "<style scoped>\n",
       "    .dataframe tbody tr th:only-of-type {\n",
       "        vertical-align: middle;\n",
       "    }\n",
       "\n",
       "    .dataframe tbody tr th {\n",
       "        vertical-align: top;\n",
       "    }\n",
       "\n",
       "    .dataframe thead th {\n",
       "        text-align: right;\n",
       "    }\n",
       "</style>\n",
       "<table border=\"1\" class=\"dataframe\">\n",
       "  <thead>\n",
       "    <tr style=\"text-align: right;\">\n",
       "      <th></th>\n",
       "      <th>ADM_name</th>\n",
       "      <th>ISO3</th>\n",
       "      <th>Date</th>\n",
       "      <th>Name</th>\n",
       "      <th>Type</th>\n",
       "    </tr>\n",
       "  </thead>\n",
       "  <tbody>\n",
       "    <tr>\n",
       "      <th>0</th>\n",
       "      <td>Aruba</td>\n",
       "      <td>ABW</td>\n",
       "      <td>01/01/2010</td>\n",
       "      <td>New Year's Day</td>\n",
       "      <td>Public holiday</td>\n",
       "    </tr>\n",
       "    <tr>\n",
       "      <th>1</th>\n",
       "      <td>Aruba</td>\n",
       "      <td>ABW</td>\n",
       "      <td>25/01/2010</td>\n",
       "      <td>Betico Croes' Birthday</td>\n",
       "      <td>Public holiday</td>\n",
       "    </tr>\n",
       "    <tr>\n",
       "      <th>2</th>\n",
       "      <td>Aruba</td>\n",
       "      <td>ABW</td>\n",
       "      <td>15/02/2010</td>\n",
       "      <td>Carnival Monday</td>\n",
       "      <td>Public holiday</td>\n",
       "    </tr>\n",
       "    <tr>\n",
       "      <th>3</th>\n",
       "      <td>Aruba</td>\n",
       "      <td>ABW</td>\n",
       "      <td>18/03/2010</td>\n",
       "      <td>National Anthem and Flag Day</td>\n",
       "      <td>Public holiday</td>\n",
       "    </tr>\n",
       "    <tr>\n",
       "      <th>4</th>\n",
       "      <td>Aruba</td>\n",
       "      <td>ABW</td>\n",
       "      <td>02/04/2010</td>\n",
       "      <td>Good Friday</td>\n",
       "      <td>Public holiday</td>\n",
       "    </tr>\n",
       "  </tbody>\n",
       "</table>\n",
       "</div>"
      ],
      "text/plain": [
       "  ADM_name ISO3        Date                          Name            Type\n",
       "0    Aruba  ABW  01/01/2010                New Year's Day  Public holiday\n",
       "1    Aruba  ABW  25/01/2010        Betico Croes' Birthday  Public holiday\n",
       "2    Aruba  ABW  15/02/2010               Carnival Monday  Public holiday\n",
       "3    Aruba  ABW  18/03/2010  National Anthem and Flag Day  Public holiday\n",
       "4    Aruba  ABW  02/04/2010                   Good Friday  Public holiday"
      ]
     },
     "execution_count": 8,
     "metadata": {},
     "output_type": "execute_result"
    }
   ],
   "source": [
    "import pandas as pd\n",
    "import numpy as np\n",
    "\n",
    "df = pd.read_csv('data/public_holidays_2010_2019.csv')\n",
    "df.head()"
   ]
  },
  {
   "cell_type": "code",
   "execution_count": 9,
   "metadata": {},
   "outputs": [
    {
     "data": {
      "text/html": [
       "<div>\n",
       "<style scoped>\n",
       "    .dataframe tbody tr th:only-of-type {\n",
       "        vertical-align: middle;\n",
       "    }\n",
       "\n",
       "    .dataframe tbody tr th {\n",
       "        vertical-align: top;\n",
       "    }\n",
       "\n",
       "    .dataframe thead th {\n",
       "        text-align: right;\n",
       "    }\n",
       "</style>\n",
       "<table border=\"1\" class=\"dataframe\">\n",
       "  <thead>\n",
       "    <tr style=\"text-align: right;\">\n",
       "      <th></th>\n",
       "      <th>ADM_name</th>\n",
       "      <th>ISO3</th>\n",
       "      <th>Date</th>\n",
       "      <th>Name</th>\n",
       "      <th>Type</th>\n",
       "    </tr>\n",
       "  </thead>\n",
       "  <tbody>\n",
       "    <tr>\n",
       "      <th>2916</th>\n",
       "      <td>Belgium</td>\n",
       "      <td>BEL</td>\n",
       "      <td>06/01/2010</td>\n",
       "      <td>Epiphany</td>\n",
       "      <td>Observance</td>\n",
       "    </tr>\n",
       "    <tr>\n",
       "      <th>2917</th>\n",
       "      <td>Belgium</td>\n",
       "      <td>BEL</td>\n",
       "      <td>14/02/2010</td>\n",
       "      <td>Valentine's Day</td>\n",
       "      <td>Observance</td>\n",
       "    </tr>\n",
       "    <tr>\n",
       "      <th>2918</th>\n",
       "      <td>Belgium</td>\n",
       "      <td>BEL</td>\n",
       "      <td>31/10/2010</td>\n",
       "      <td>Halloween</td>\n",
       "      <td>Observance</td>\n",
       "    </tr>\n",
       "    <tr>\n",
       "      <th>2919</th>\n",
       "      <td>Belgium</td>\n",
       "      <td>BEL</td>\n",
       "      <td>06/12/2010</td>\n",
       "      <td>St. Nicholas Day</td>\n",
       "      <td>Observance</td>\n",
       "    </tr>\n",
       "    <tr>\n",
       "      <th>2920</th>\n",
       "      <td>Belgium</td>\n",
       "      <td>BEL</td>\n",
       "      <td>24/12/2010</td>\n",
       "      <td>Christmas Eve</td>\n",
       "      <td>Observance</td>\n",
       "    </tr>\n",
       "  </tbody>\n",
       "</table>\n",
       "</div>"
      ],
      "text/plain": [
       "     ADM_name ISO3        Date              Name        Type\n",
       "2916  Belgium  BEL  06/01/2010          Epiphany  Observance\n",
       "2917  Belgium  BEL  14/02/2010   Valentine's Day  Observance\n",
       "2918  Belgium  BEL  31/10/2010         Halloween  Observance\n",
       "2919  Belgium  BEL  06/12/2010  St. Nicholas Day  Observance\n",
       "2920  Belgium  BEL  24/12/2010     Christmas Eve  Observance"
      ]
     },
     "execution_count": 9,
     "metadata": {},
     "output_type": "execute_result"
    }
   ],
   "source": [
    "countries = ['Belgium', 'France', 'Germany', 'Italy', 'Poland', 'Spain']\n",
    "\n",
    "new = df.loc[df['ADM_name'].isin(countries)]\n",
    "new.head()"
   ]
  },
  {
   "cell_type": "code",
   "execution_count": 13,
   "metadata": {},
   "outputs": [
    {
     "name": "stdout",
     "output_type": "stream",
     "text": [
      "['Belgium' 'Germany' 'Spain' 'France' 'Italy' 'Poland']\n",
      "Belgium 200\n",
      "Germany 526\n",
      "Spain 588\n",
      "France 190\n",
      "Italy 191\n",
      "Poland 200\n"
     ]
    }
   ],
   "source": [
    "lst = new['ADM_name'].unique()\n",
    "\n",
    "print(lst)\n",
    "for country in lst:\n",
    "    print(country, len(new.loc[new['ADM_name'] == country]))"
   ]
  },
  {
   "cell_type": "code",
   "execution_count": null,
   "metadata": {},
   "outputs": [],
   "source": [
    "new.to_csv('selected_holidays.csv')"
   ]
  }
 ],
 "metadata": {
  "kernelspec": {
   "display_name": "Python 3.9.13 ('ds-env')",
   "language": "python",
   "name": "python3"
  },
  "language_info": {
   "codemirror_mode": {
    "name": "ipython",
    "version": 3
   },
   "file_extension": ".py",
   "mimetype": "text/x-python",
   "name": "python",
   "nbconvert_exporter": "python",
   "pygments_lexer": "ipython3",
   "version": "3.9.13"
  },
  "orig_nbformat": 4,
  "vscode": {
   "interpreter": {
    "hash": "50d0380861f23b593d520040a66e7a725c6f22b71f0b66fe8e911c9f7b422174"
   }
  }
 },
 "nbformat": 4,
 "nbformat_minor": 2
}
